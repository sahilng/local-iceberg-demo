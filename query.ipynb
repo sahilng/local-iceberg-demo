{
 "cells": [
  {
   "cell_type": "code",
   "execution_count": 1,
   "metadata": {},
   "outputs": [],
   "source": [
    "!pip install pyiceberg pandas duckdb --quiet"
   ]
  },
  {
   "cell_type": "code",
   "execution_count": 2,
   "metadata": {},
   "outputs": [],
   "source": [
    "from pyiceberg.catalog.sql import SqlCatalog"
   ]
  },
  {
   "cell_type": "code",
   "execution_count": 3,
   "metadata": {},
   "outputs": [],
   "source": [
    "catalog = SqlCatalog('default', uri='sqlite:///iceberg/pyiceberg_catalog.db')"
   ]
  },
  {
   "cell_type": "code",
   "execution_count": 4,
   "metadata": {},
   "outputs": [],
   "source": [
    "table = catalog.load_table('default.hacker_news')"
   ]
  },
  {
   "cell_type": "code",
   "execution_count": 5,
   "metadata": {},
   "outputs": [],
   "source": [
    "import duckdb"
   ]
  },
  {
   "cell_type": "code",
   "execution_count": 6,
   "metadata": {},
   "outputs": [],
   "source": [
    "db = duckdb.connect()"
   ]
  },
  {
   "cell_type": "code",
   "execution_count": 7,
   "metadata": {},
   "outputs": [
    {
     "data": {
      "text/plain": [
       "<duckdb.duckdb.DuckDBPyConnection at 0x7e9627b6ebf0>"
      ]
     },
     "execution_count": 7,
     "metadata": {},
     "output_type": "execute_result"
    }
   ],
   "source": [
    "table.scan().to_duckdb(table_name='hacker_news', connection=db)"
   ]
  },
  {
   "cell_type": "code",
   "execution_count": 8,
   "metadata": {},
   "outputs": [
    {
     "data": {
      "text/plain": [
       "┌─────────────┐\n",
       "│    name     │\n",
       "│   varchar   │\n",
       "├─────────────┤\n",
       "│ hacker_news │\n",
       "└─────────────┘"
      ]
     },
     "execution_count": 8,
     "metadata": {},
     "output_type": "execute_result"
    }
   ],
   "source": [
    "db.sql('show tables')"
   ]
  },
  {
   "cell_type": "code",
   "execution_count": 9,
   "metadata": {},
   "outputs": [],
   "source": [
    "import pandas as pd"
   ]
  },
  {
   "cell_type": "code",
   "execution_count": 10,
   "metadata": {},
   "outputs": [
    {
     "data": {
      "text/html": [
       "<div>\n",
       "<style scoped>\n",
       "    .dataframe tbody tr th:only-of-type {\n",
       "        vertical-align: middle;\n",
       "    }\n",
       "\n",
       "    .dataframe tbody tr th {\n",
       "        vertical-align: top;\n",
       "    }\n",
       "\n",
       "    .dataframe thead th {\n",
       "        text-align: right;\n",
       "    }\n",
       "</style>\n",
       "<table border=\"1\" class=\"dataframe\">\n",
       "  <thead>\n",
       "    <tr style=\"text-align: right;\">\n",
       "      <th></th>\n",
       "      <th>title</th>\n",
       "      <th>url</th>\n",
       "      <th>text</th>\n",
       "      <th>dead</th>\n",
       "      <th>by</th>\n",
       "      <th>score</th>\n",
       "      <th>time</th>\n",
       "      <th>timestamp</th>\n",
       "      <th>type</th>\n",
       "      <th>id</th>\n",
       "      <th>parent</th>\n",
       "      <th>descendants</th>\n",
       "      <th>ranking</th>\n",
       "      <th>deleted</th>\n",
       "    </tr>\n",
       "  </thead>\n",
       "  <tbody>\n",
       "    <tr>\n",
       "      <th>0</th>\n",
       "      <td>None</td>\n",
       "      <td>None</td>\n",
       "      <td>Could this be a replacement for git-annex?\\nI&amp;...</td>\n",
       "      <td>NaN</td>\n",
       "      <td>apex_sloth</td>\n",
       "      <td>NaN</td>\n",
       "      <td>1668589952</td>\n",
       "      <td>2022-11-16 09:12:32</td>\n",
       "      <td>comment</td>\n",
       "      <td>33620611</td>\n",
       "      <td>33612410.0</td>\n",
       "      <td>NaN</td>\n",
       "      <td>NaN</td>\n",
       "      <td>NaN</td>\n",
       "    </tr>\n",
       "    <tr>\n",
       "      <th>1</th>\n",
       "      <td>None</td>\n",
       "      <td>None</td>\n",
       "      <td>Wikipedia is definitely a good example of inte...</td>\n",
       "      <td>NaN</td>\n",
       "      <td>divan</td>\n",
       "      <td>NaN</td>\n",
       "      <td>1668589950</td>\n",
       "      <td>2022-11-16 09:12:30</td>\n",
       "      <td>comment</td>\n",
       "      <td>33620610</td>\n",
       "      <td>33613238.0</td>\n",
       "      <td>NaN</td>\n",
       "      <td>NaN</td>\n",
       "      <td>NaN</td>\n",
       "    </tr>\n",
       "    <tr>\n",
       "      <th>2</th>\n",
       "      <td>None</td>\n",
       "      <td>None</td>\n",
       "      <td>&amp;gt; HTML, XML, and ZIP files aren&amp;#x27;t goin...</td>\n",
       "      <td>NaN</td>\n",
       "      <td>lqet</td>\n",
       "      <td>NaN</td>\n",
       "      <td>1668589936</td>\n",
       "      <td>2022-11-16 09:12:16</td>\n",
       "      <td>comment</td>\n",
       "      <td>33620609</td>\n",
       "      <td>33617161.0</td>\n",
       "      <td>NaN</td>\n",
       "      <td>NaN</td>\n",
       "      <td>NaN</td>\n",
       "    </tr>\n",
       "    <tr>\n",
       "      <th>3</th>\n",
       "      <td>None</td>\n",
       "      <td>None</td>\n",
       "      <td>It’s incredible and the more organisations doi...</td>\n",
       "      <td>NaN</td>\n",
       "      <td>randomsearch</td>\n",
       "      <td>NaN</td>\n",
       "      <td>1668589918</td>\n",
       "      <td>2022-11-16 09:11:58</td>\n",
       "      <td>comment</td>\n",
       "      <td>33620608</td>\n",
       "      <td>33620090.0</td>\n",
       "      <td>NaN</td>\n",
       "      <td>NaN</td>\n",
       "      <td>NaN</td>\n",
       "    </tr>\n",
       "    <tr>\n",
       "      <th>4</th>\n",
       "      <td>None</td>\n",
       "      <td>None</td>\n",
       "      <td>Hydrogen might be a solution to powering marin...</td>\n",
       "      <td>NaN</td>\n",
       "      <td>preisschild</td>\n",
       "      <td>NaN</td>\n",
       "      <td>1668589914</td>\n",
       "      <td>2022-11-16 09:11:54</td>\n",
       "      <td>comment</td>\n",
       "      <td>33620607</td>\n",
       "      <td>33618793.0</td>\n",
       "      <td>NaN</td>\n",
       "      <td>NaN</td>\n",
       "      <td>NaN</td>\n",
       "    </tr>\n",
       "  </tbody>\n",
       "</table>\n",
       "</div>"
      ],
      "text/plain": [
       "  title   url                                               text dead  \\\n",
       "0  None  None  Could this be a replacement for git-annex?\\nI&...  NaN   \n",
       "1  None  None  Wikipedia is definitely a good example of inte...  NaN   \n",
       "2  None  None  &gt; HTML, XML, and ZIP files aren&#x27;t goin...  NaN   \n",
       "3  None  None  It’s incredible and the more organisations doi...  NaN   \n",
       "4  None  None  Hydrogen might be a solution to powering marin...  NaN   \n",
       "\n",
       "             by  score        time           timestamp     type        id  \\\n",
       "0    apex_sloth    NaN  1668589952 2022-11-16 09:12:32  comment  33620611   \n",
       "1         divan    NaN  1668589950 2022-11-16 09:12:30  comment  33620610   \n",
       "2          lqet    NaN  1668589936 2022-11-16 09:12:16  comment  33620609   \n",
       "3  randomsearch    NaN  1668589918 2022-11-16 09:11:58  comment  33620608   \n",
       "4   preisschild    NaN  1668589914 2022-11-16 09:11:54  comment  33620607   \n",
       "\n",
       "       parent  descendants  ranking deleted  \n",
       "0  33612410.0          NaN      NaN     NaN  \n",
       "1  33613238.0          NaN      NaN     NaN  \n",
       "2  33617161.0          NaN      NaN     NaN  \n",
       "3  33620090.0          NaN      NaN     NaN  \n",
       "4  33618793.0          NaN      NaN     NaN  "
      ]
     },
     "execution_count": 10,
     "metadata": {},
     "output_type": "execute_result"
    }
   ],
   "source": [
    "db.sql('select * from hacker_news limit 10').df().head(5)"
   ]
  },
  {
   "cell_type": "code",
   "execution_count": 14,
   "metadata": {},
   "outputs": [],
   "source": [
    "df = db.sql('select length(text) as text_length, count(*) as count from hacker_news where text is not null group by 1 order by 2 desc').df()"
   ]
  },
  {
   "cell_type": "code",
   "execution_count": 15,
   "metadata": {},
   "outputs": [
    {
     "data": {
      "text/html": [
       "<div>\n",
       "<style scoped>\n",
       "    .dataframe tbody tr th:only-of-type {\n",
       "        vertical-align: middle;\n",
       "    }\n",
       "\n",
       "    .dataframe tbody tr th {\n",
       "        vertical-align: top;\n",
       "    }\n",
       "\n",
       "    .dataframe thead th {\n",
       "        text-align: right;\n",
       "    }\n",
       "</style>\n",
       "<table border=\"1\" class=\"dataframe\">\n",
       "  <thead>\n",
       "    <tr style=\"text-align: right;\">\n",
       "      <th></th>\n",
       "      <th>text_length</th>\n",
       "      <th>count</th>\n",
       "    </tr>\n",
       "  </thead>\n",
       "  <tbody>\n",
       "    <tr>\n",
       "      <th>0</th>\n",
       "      <td>108</td>\n",
       "      <td>837</td>\n",
       "    </tr>\n",
       "    <tr>\n",
       "      <th>1</th>\n",
       "      <td>70</td>\n",
       "      <td>611</td>\n",
       "    </tr>\n",
       "    <tr>\n",
       "      <th>2</th>\n",
       "      <td>75</td>\n",
       "      <td>601</td>\n",
       "    </tr>\n",
       "    <tr>\n",
       "      <th>3</th>\n",
       "      <td>77</td>\n",
       "      <td>598</td>\n",
       "    </tr>\n",
       "    <tr>\n",
       "      <th>4</th>\n",
       "      <td>73</td>\n",
       "      <td>595</td>\n",
       "    </tr>\n",
       "    <tr>\n",
       "      <th>...</th>\n",
       "      <td>...</td>\n",
       "      <td>...</td>\n",
       "    </tr>\n",
       "    <tr>\n",
       "      <th>3444</th>\n",
       "      <td>3224</td>\n",
       "      <td>1</td>\n",
       "    </tr>\n",
       "    <tr>\n",
       "      <th>3445</th>\n",
       "      <td>3106</td>\n",
       "      <td>1</td>\n",
       "    </tr>\n",
       "    <tr>\n",
       "      <th>3446</th>\n",
       "      <td>3126</td>\n",
       "      <td>1</td>\n",
       "    </tr>\n",
       "    <tr>\n",
       "      <th>3447</th>\n",
       "      <td>6229</td>\n",
       "      <td>1</td>\n",
       "    </tr>\n",
       "    <tr>\n",
       "      <th>3448</th>\n",
       "      <td>3064</td>\n",
       "      <td>1</td>\n",
       "    </tr>\n",
       "  </tbody>\n",
       "</table>\n",
       "<p>3449 rows × 2 columns</p>\n",
       "</div>"
      ],
      "text/plain": [
       "      text_length  count\n",
       "0             108    837\n",
       "1              70    611\n",
       "2              75    601\n",
       "3              77    598\n",
       "4              73    595\n",
       "...           ...    ...\n",
       "3444         3224      1\n",
       "3445         3106      1\n",
       "3446         3126      1\n",
       "3447         6229      1\n",
       "3448         3064      1\n",
       "\n",
       "[3449 rows x 2 columns]"
      ]
     },
     "execution_count": 15,
     "metadata": {},
     "output_type": "execute_result"
    }
   ],
   "source": [
    "df"
   ]
  },
  {
   "cell_type": "code",
   "execution_count": 19,
   "metadata": {},
   "outputs": [
    {
     "data": {
      "text/plain": [
       "<Axes: xlabel='text_length'>"
      ]
     },
     "execution_count": 19,
     "metadata": {},
     "output_type": "execute_result"
    },
    {
     "data": {
      "image/png": "[encoded data removed]",
      "text/plain": [
       "<Figure size 640x480 with 1 Axes>"
      ]
     },
     "metadata": {},
     "output_type": "display_data"
    }
   ],
   "source": [
    "df.plot(x='text_length', y='count')"
   ]
  },
  {
   "cell_type": "code",
   "execution_count": 20,
   "metadata": {},
   "outputs": [],
   "source": [
    "db.close()"
   ]
  }
 ],
 "metadata": {
  "kernelspec": {
   "display_name": "Python 3",
   "language": "python",
   "name": "python3"
  },
  "language_info": {
   "codemirror_mode": {
    "name": "ipython",
    "version": 3
   },
   "file_extension": ".py",
   "mimetype": "text/x-python",
   "name": "python",
   "nbconvert_exporter": "python",
   "pygments_lexer": "ipython3",
   "version": "3.10.13"
  }
 },
 "nbformat": 4,
 "nbformat_minor": 2
}
