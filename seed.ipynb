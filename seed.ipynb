{
 "cells": [
  {
   "cell_type": "code",
   "execution_count": 1,
   "metadata": {},
   "outputs": [
    {
     "name": "stdout",
     "output_type": "stream",
     "text": [
      "\n",
      "\u001b[1m[\u001b[0m\u001b[34;49mnotice\u001b[0m\u001b[1;39;49m]\u001b[0m\u001b[39;49m A new release of pip is available: \u001b[0m\u001b[31;49m24.0\u001b[0m\u001b[39;49m -> \u001b[0m\u001b[32;49m24.1.2\u001b[0m\n",
      "\u001b[1m[\u001b[0m\u001b[34;49mnotice\u001b[0m\u001b[1;39;49m]\u001b[0m\u001b[39;49m To update, run: \u001b[0m\u001b[32;49mpython3.11 -m pip install --upgrade pip\u001b[0m\n"
     ]
    }
   ],
   "source": [
    "!pip install pyiceberg pandas pyarrow sqlalchemy --quiet"
   ]
  },
  {
   "cell_type": "code",
   "execution_count": 2,
   "metadata": {},
   "outputs": [],
   "source": [
    "warehouse_path = \"iceberg\""
   ]
  },
  {
   "cell_type": "code",
   "execution_count": 3,
   "metadata": {},
   "outputs": [],
   "source": [
    "!rm -r iceberg/*"
   ]
  },
  {
   "cell_type": "code",
   "execution_count": 4,
   "metadata": {},
   "outputs": [],
   "source": [
    "import pandas as pd"
   ]
  },
  {
   "cell_type": "code",
   "execution_count": 5,
   "metadata": {},
   "outputs": [
    {
     "data": {
      "text/html": [
       "<div>\n",
       "<style scoped>\n",
       "    .dataframe tbody tr th:only-of-type {\n",
       "        vertical-align: middle;\n",
       "    }\n",
       "\n",
       "    .dataframe tbody tr th {\n",
       "        vertical-align: top;\n",
       "    }\n",
       "\n",
       "    .dataframe thead th {\n",
       "        text-align: right;\n",
       "    }\n",
       "</style>\n",
       "<table border=\"1\" class=\"dataframe\">\n",
       "  <thead>\n",
       "    <tr style=\"text-align: right;\">\n",
       "      <th></th>\n",
       "      <th>title</th>\n",
       "      <th>url</th>\n",
       "      <th>text</th>\n",
       "      <th>dead</th>\n",
       "      <th>by</th>\n",
       "      <th>score</th>\n",
       "      <th>time</th>\n",
       "      <th>timestamp</th>\n",
       "      <th>type</th>\n",
       "      <th>id</th>\n",
       "      <th>parent</th>\n",
       "      <th>descendants</th>\n",
       "      <th>ranking</th>\n",
       "      <th>deleted</th>\n",
       "    </tr>\n",
       "  </thead>\n",
       "  <tbody>\n",
       "    <tr>\n",
       "      <th>0</th>\n",
       "      <td>None</td>\n",
       "      <td>None</td>\n",
       "      <td>Could this be a replacement for git-annex?\\nI&amp;...</td>\n",
       "      <td>None</td>\n",
       "      <td>apex_sloth</td>\n",
       "      <td>NaN</td>\n",
       "      <td>1668589952</td>\n",
       "      <td>2022-11-16 09:12:32</td>\n",
       "      <td>comment</td>\n",
       "      <td>33620611</td>\n",
       "      <td>33612410.0</td>\n",
       "      <td>NaN</td>\n",
       "      <td>NaN</td>\n",
       "      <td>None</td>\n",
       "    </tr>\n",
       "    <tr>\n",
       "      <th>1</th>\n",
       "      <td>None</td>\n",
       "      <td>None</td>\n",
       "      <td>Wikipedia is definitely a good example of inte...</td>\n",
       "      <td>None</td>\n",
       "      <td>divan</td>\n",
       "      <td>NaN</td>\n",
       "      <td>1668589950</td>\n",
       "      <td>2022-11-16 09:12:30</td>\n",
       "      <td>comment</td>\n",
       "      <td>33620610</td>\n",
       "      <td>33613238.0</td>\n",
       "      <td>NaN</td>\n",
       "      <td>NaN</td>\n",
       "      <td>None</td>\n",
       "    </tr>\n",
       "    <tr>\n",
       "      <th>2</th>\n",
       "      <td>None</td>\n",
       "      <td>None</td>\n",
       "      <td>&amp;gt; HTML, XML, and ZIP files aren&amp;#x27;t goin...</td>\n",
       "      <td>None</td>\n",
       "      <td>lqet</td>\n",
       "      <td>NaN</td>\n",
       "      <td>1668589936</td>\n",
       "      <td>2022-11-16 09:12:16</td>\n",
       "      <td>comment</td>\n",
       "      <td>33620609</td>\n",
       "      <td>33617161.0</td>\n",
       "      <td>NaN</td>\n",
       "      <td>NaN</td>\n",
       "      <td>None</td>\n",
       "    </tr>\n",
       "    <tr>\n",
       "      <th>3</th>\n",
       "      <td>None</td>\n",
       "      <td>None</td>\n",
       "      <td>It’s incredible and the more organisations doi...</td>\n",
       "      <td>None</td>\n",
       "      <td>randomsearch</td>\n",
       "      <td>NaN</td>\n",
       "      <td>1668589918</td>\n",
       "      <td>2022-11-16 09:11:58</td>\n",
       "      <td>comment</td>\n",
       "      <td>33620608</td>\n",
       "      <td>33620090.0</td>\n",
       "      <td>NaN</td>\n",
       "      <td>NaN</td>\n",
       "      <td>None</td>\n",
       "    </tr>\n",
       "    <tr>\n",
       "      <th>4</th>\n",
       "      <td>None</td>\n",
       "      <td>None</td>\n",
       "      <td>Hydrogen might be a solution to powering marin...</td>\n",
       "      <td>None</td>\n",
       "      <td>preisschild</td>\n",
       "      <td>NaN</td>\n",
       "      <td>1668589914</td>\n",
       "      <td>2022-11-16 09:11:54</td>\n",
       "      <td>comment</td>\n",
       "      <td>33620607</td>\n",
       "      <td>33618793.0</td>\n",
       "      <td>NaN</td>\n",
       "      <td>NaN</td>\n",
       "      <td>None</td>\n",
       "    </tr>\n",
       "  </tbody>\n",
       "</table>\n",
       "</div>"
      ],
      "text/plain": [
       "  title   url                                               text  dead  \\\n",
       "0  None  None  Could this be a replacement for git-annex?\\nI&...  None   \n",
       "1  None  None  Wikipedia is definitely a good example of inte...  None   \n",
       "2  None  None  &gt; HTML, XML, and ZIP files aren&#x27;t goin...  None   \n",
       "3  None  None  It’s incredible and the more organisations doi...  None   \n",
       "4  None  None  Hydrogen might be a solution to powering marin...  None   \n",
       "\n",
       "             by  score        time           timestamp     type        id  \\\n",
       "0    apex_sloth    NaN  1668589952 2022-11-16 09:12:32  comment  33620611   \n",
       "1         divan    NaN  1668589950 2022-11-16 09:12:30  comment  33620610   \n",
       "2          lqet    NaN  1668589936 2022-11-16 09:12:16  comment  33620609   \n",
       "3  randomsearch    NaN  1668589918 2022-11-16 09:11:58  comment  33620608   \n",
       "4   preisschild    NaN  1668589914 2022-11-16 09:11:54  comment  33620607   \n",
       "\n",
       "       parent  descendants  ranking deleted  \n",
       "0  33612410.0          NaN      NaN    None  \n",
       "1  33613238.0          NaN      NaN    None  \n",
       "2  33617161.0          NaN      NaN    None  \n",
       "3  33620090.0          NaN      NaN    None  \n",
       "4  33618793.0          NaN      NaN    None  "
      ]
     },
     "execution_count": 5,
     "metadata": {},
     "output_type": "execute_result"
    }
   ],
   "source": [
    "pd.read_parquet('hacker_news.parquet').head()"
   ]
  },
  {
   "cell_type": "code",
   "execution_count": 6,
   "metadata": {},
   "outputs": [],
   "source": [
    "from pyiceberg.catalog.sql import SqlCatalog\n",
    "\n",
    "catalog = SqlCatalog(\n",
    "    \"default\",\n",
    "    **{\n",
    "        \"uri\": \"sqlite:///iceberg/pyiceberg_catalog.db\",\n",
    "        \"warehouse\": f\"file://{warehouse_path}\",\n",
    "    },\n",
    ")"
   ]
  },
  {
   "cell_type": "code",
   "execution_count": 7,
   "metadata": {},
   "outputs": [],
   "source": [
    "import pyarrow.parquet as pq\n",
    "\n",
    "df = pq.read_table(\"hacker_news.parquet\")"
   ]
  },
  {
   "cell_type": "code",
   "execution_count": 8,
   "metadata": {},
   "outputs": [],
   "source": [
    "catalog.create_namespace(\"default\")"
   ]
  },
  {
   "cell_type": "code",
   "execution_count": 9,
   "metadata": {},
   "outputs": [],
   "source": [
    "table = catalog.create_table(\n",
    "    \"default.hacker_news\",\n",
    "    schema=df.schema,\n",
    ")"
   ]
  },
  {
   "cell_type": "code",
   "execution_count": 10,
   "metadata": {},
   "outputs": [],
   "source": [
    "table.append(df)"
   ]
  },
  {
   "cell_type": "code",
   "execution_count": 11,
   "metadata": {},
   "outputs": [
    {
     "data": {
      "text/plain": [
       "250000"
      ]
     },
     "execution_count": 11,
     "metadata": {},
     "output_type": "execute_result"
    }
   ],
   "source": [
    "len(table.scan().to_arrow())"
   ]
  }
 ],
 "metadata": {
  "kernelspec": {
   "display_name": "Python 3",
   "language": "python",
   "name": "python3"
  },
  "language_info": {
   "codemirror_mode": {
    "name": "ipython",
    "version": 3
   },
   "file_extension": ".py",
   "mimetype": "text/x-python",
   "name": "python",
   "nbconvert_exporter": "python",
   "pygments_lexer": "ipython3",
   "version": "3.11.9"
  }
 },
 "nbformat": 4,
 "nbformat_minor": 2
}
